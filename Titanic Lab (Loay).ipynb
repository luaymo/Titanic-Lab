{
 "cells": [
  {
   "cell_type": "code",
   "execution_count": 1,
   "id": "1d2f5eb8",
   "metadata": {
    "_cell_guid": "b1076dfc-b9ad-4769-8c92-a6c4dae69d19",
    "_uuid": "8f2839f25d086af736a60e9eeb907d3b93b6e0e5",
    "execution": {
     "iopub.execute_input": "2024-10-26T15:34:57.916443Z",
     "iopub.status.busy": "2024-10-26T15:34:57.915871Z",
     "iopub.status.idle": "2024-10-26T15:34:59.039321Z",
     "shell.execute_reply": "2024-10-26T15:34:59.038008Z"
    },
    "papermill": {
     "duration": 1.137902,
     "end_time": "2024-10-26T15:34:59.042280",
     "exception": false,
     "start_time": "2024-10-26T15:34:57.904378",
     "status": "completed"
    },
    "tags": []
   },
   "outputs": [
    {
     "name": "stdout",
     "output_type": "stream",
     "text": [
      "/kaggle/input/mytitanic/Titanic.csv\n"
     ]
    }
   ],
   "source": [
    "# This Python 3 environment comes with many helpful analytics libraries installed\n",
    "# It is defined by the kaggle/python Docker image: https://github.com/kaggle/docker-python\n",
    "# For example, here's several helpful packages to load\n",
    "\n",
    "import numpy as np # linear algebra\n",
    "import pandas as pd # data processing, CSV file I/O (e.g. pd.read_csv)\n",
    "\n",
    "# Input data files are available in the read-only \"../input/\" directory\n",
    "# For example, running this (by clicking run or pressing Shift+Enter) will list all files under the input directory\n",
    "\n",
    "import os\n",
    "for dirname, _, filenames in os.walk('/kaggle/input'):\n",
    "    for filename in filenames:\n",
    "        print(os.path.join(dirname, filename))\n",
    "\n",
    "# You can write up to 20GB to the current directory (/kaggle/working/) that gets preserved as output when you create a version using \"Save & Run All\" \n",
    "# You can also write temporary files to /kaggle/temp/, but they won't be saved outside of the current session"
   ]
  },
  {
   "cell_type": "code",
   "execution_count": 2,
   "id": "561c1f6c",
   "metadata": {
    "execution": {
     "iopub.execute_input": "2024-10-26T15:34:59.062934Z",
     "iopub.status.busy": "2024-10-26T15:34:59.061591Z",
     "iopub.status.idle": "2024-10-26T15:34:59.084720Z",
     "shell.execute_reply": "2024-10-26T15:34:59.083575Z"
    },
    "papermill": {
     "duration": 0.036772,
     "end_time": "2024-10-26T15:34:59.088175",
     "exception": false,
     "start_time": "2024-10-26T15:34:59.051403",
     "status": "completed"
    },
    "tags": []
   },
   "outputs": [],
   "source": [
    "df = pd.read_csv('/kaggle/input/mytitanic/Titanic.csv')"
   ]
  },
  {
   "cell_type": "code",
   "execution_count": 3,
   "id": "feb688e5",
   "metadata": {
    "execution": {
     "iopub.execute_input": "2024-10-26T15:34:59.110889Z",
     "iopub.status.busy": "2024-10-26T15:34:59.110396Z",
     "iopub.status.idle": "2024-10-26T15:34:59.141741Z",
     "shell.execute_reply": "2024-10-26T15:34:59.140409Z"
    },
    "papermill": {
     "duration": 0.046463,
     "end_time": "2024-10-26T15:34:59.145179",
     "exception": false,
     "start_time": "2024-10-26T15:34:59.098716",
     "status": "completed"
    },
    "tags": []
   },
   "outputs": [
    {
     "data": {
      "text/html": [
       "<div>\n",
       "<style scoped>\n",
       "    .dataframe tbody tr th:only-of-type {\n",
       "        vertical-align: middle;\n",
       "    }\n",
       "\n",
       "    .dataframe tbody tr th {\n",
       "        vertical-align: top;\n",
       "    }\n",
       "\n",
       "    .dataframe thead th {\n",
       "        text-align: right;\n",
       "    }\n",
       "</style>\n",
       "<table border=\"1\" class=\"dataframe\">\n",
       "  <thead>\n",
       "    <tr style=\"text-align: right;\">\n",
       "      <th></th>\n",
       "      <th>PassengerId</th>\n",
       "      <th>Survived</th>\n",
       "      <th>Pclass</th>\n",
       "      <th>Name</th>\n",
       "      <th>Sex</th>\n",
       "      <th>Age</th>\n",
       "      <th>SibSp</th>\n",
       "      <th>Parch</th>\n",
       "      <th>Ticket</th>\n",
       "      <th>Fare</th>\n",
       "      <th>Cabin</th>\n",
       "      <th>Embarked</th>\n",
       "    </tr>\n",
       "  </thead>\n",
       "  <tbody>\n",
       "    <tr>\n",
       "      <th>0</th>\n",
       "      <td>1</td>\n",
       "      <td>0</td>\n",
       "      <td>3</td>\n",
       "      <td>Braund, Mr. Owen Harris</td>\n",
       "      <td>male</td>\n",
       "      <td>22.0</td>\n",
       "      <td>1</td>\n",
       "      <td>0</td>\n",
       "      <td>A/5 21171</td>\n",
       "      <td>7.2500</td>\n",
       "      <td>NaN</td>\n",
       "      <td>S</td>\n",
       "    </tr>\n",
       "    <tr>\n",
       "      <th>1</th>\n",
       "      <td>2</td>\n",
       "      <td>1</td>\n",
       "      <td>1</td>\n",
       "      <td>Cumings, Mrs. John Bradley (Florence Briggs Th...</td>\n",
       "      <td>female</td>\n",
       "      <td>38.0</td>\n",
       "      <td>1</td>\n",
       "      <td>0</td>\n",
       "      <td>PC 17599</td>\n",
       "      <td>71.2833</td>\n",
       "      <td>C85</td>\n",
       "      <td>C</td>\n",
       "    </tr>\n",
       "    <tr>\n",
       "      <th>2</th>\n",
       "      <td>3</td>\n",
       "      <td>1</td>\n",
       "      <td>3</td>\n",
       "      <td>Heikkinen, Miss. Laina</td>\n",
       "      <td>female</td>\n",
       "      <td>26.0</td>\n",
       "      <td>0</td>\n",
       "      <td>0</td>\n",
       "      <td>STON/O2. 3101282</td>\n",
       "      <td>7.9250</td>\n",
       "      <td>NaN</td>\n",
       "      <td>S</td>\n",
       "    </tr>\n",
       "    <tr>\n",
       "      <th>3</th>\n",
       "      <td>4</td>\n",
       "      <td>1</td>\n",
       "      <td>1</td>\n",
       "      <td>Futrelle, Mrs. Jacques Heath (Lily May Peel)</td>\n",
       "      <td>female</td>\n",
       "      <td>35.0</td>\n",
       "      <td>1</td>\n",
       "      <td>0</td>\n",
       "      <td>113803</td>\n",
       "      <td>53.1000</td>\n",
       "      <td>C123</td>\n",
       "      <td>S</td>\n",
       "    </tr>\n",
       "    <tr>\n",
       "      <th>4</th>\n",
       "      <td>5</td>\n",
       "      <td>0</td>\n",
       "      <td>3</td>\n",
       "      <td>Allen, Mr. William Henry</td>\n",
       "      <td>male</td>\n",
       "      <td>35.0</td>\n",
       "      <td>0</td>\n",
       "      <td>0</td>\n",
       "      <td>373450</td>\n",
       "      <td>8.0500</td>\n",
       "      <td>NaN</td>\n",
       "      <td>S</td>\n",
       "    </tr>\n",
       "  </tbody>\n",
       "</table>\n",
       "</div>"
      ],
      "text/plain": [
       "   PassengerId  Survived  Pclass  \\\n",
       "0            1         0       3   \n",
       "1            2         1       1   \n",
       "2            3         1       3   \n",
       "3            4         1       1   \n",
       "4            5         0       3   \n",
       "\n",
       "                                                Name     Sex   Age  SibSp  \\\n",
       "0                            Braund, Mr. Owen Harris    male  22.0      1   \n",
       "1  Cumings, Mrs. John Bradley (Florence Briggs Th...  female  38.0      1   \n",
       "2                             Heikkinen, Miss. Laina  female  26.0      0   \n",
       "3       Futrelle, Mrs. Jacques Heath (Lily May Peel)  female  35.0      1   \n",
       "4                           Allen, Mr. William Henry    male  35.0      0   \n",
       "\n",
       "   Parch            Ticket     Fare Cabin Embarked  \n",
       "0      0         A/5 21171   7.2500   NaN        S  \n",
       "1      0          PC 17599  71.2833   C85        C  \n",
       "2      0  STON/O2. 3101282   7.9250   NaN        S  \n",
       "3      0            113803  53.1000  C123        S  \n",
       "4      0            373450   8.0500   NaN        S  "
      ]
     },
     "execution_count": 3,
     "metadata": {},
     "output_type": "execute_result"
    }
   ],
   "source": [
    "df.head()"
   ]
  },
  {
   "cell_type": "code",
   "execution_count": 4,
   "id": "3288d777",
   "metadata": {
    "execution": {
     "iopub.execute_input": "2024-10-26T15:34:59.169221Z",
     "iopub.status.busy": "2024-10-26T15:34:59.168299Z",
     "iopub.status.idle": "2024-10-26T15:34:59.181849Z",
     "shell.execute_reply": "2024-10-26T15:34:59.180595Z"
    },
    "papermill": {
     "duration": 0.028449,
     "end_time": "2024-10-26T15:34:59.184608",
     "exception": false,
     "start_time": "2024-10-26T15:34:59.156159",
     "status": "completed"
    },
    "tags": []
   },
   "outputs": [
    {
     "data": {
      "text/plain": [
       "PassengerId      0\n",
       "Survived         0\n",
       "Pclass           0\n",
       "Name             0\n",
       "Sex              0\n",
       "Age            177\n",
       "SibSp            0\n",
       "Parch            0\n",
       "Ticket           0\n",
       "Fare             0\n",
       "Cabin          687\n",
       "Embarked         2\n",
       "dtype: int64"
      ]
     },
     "execution_count": 4,
     "metadata": {},
     "output_type": "execute_result"
    }
   ],
   "source": [
    "df.isnull().sum()"
   ]
  },
  {
   "cell_type": "code",
   "execution_count": 5,
   "id": "ebf3f1b5",
   "metadata": {
    "execution": {
     "iopub.execute_input": "2024-10-26T15:34:59.208380Z",
     "iopub.status.busy": "2024-10-26T15:34:59.207441Z",
     "iopub.status.idle": "2024-10-26T15:35:01.406536Z",
     "shell.execute_reply": "2024-10-26T15:35:01.405283Z"
    },
    "papermill": {
     "duration": 2.214644,
     "end_time": "2024-10-26T15:35:01.409270",
     "exception": false,
     "start_time": "2024-10-26T15:34:59.194626",
     "status": "completed"
    },
    "tags": []
   },
   "outputs": [
    {
     "data": {
      "text/plain": [
       "<Axes: xlabel='Survived', ylabel='count'>"
      ]
     },
     "execution_count": 5,
     "metadata": {},
     "output_type": "execute_result"
    },
    {
     "data": {
      "image/png": "[encoded data removed]",
      "text/plain": [
       "<Figure size 640x480 with 1 Axes>"
      ]
     },
     "metadata": {},
     "output_type": "display_data"
    }
   ],
   "source": [
    "# Оценка выживаемости (0 - погибли, 1 - выжили)\n",
    "import matplotlib.pyplot as plt\n",
    "import seaborn as sns\n",
    "%matplotlib inline\n",
    "sns.countplot(x='Survived', data=df)"
   ]
  },
  {
   "cell_type": "code",
   "execution_count": 6,
   "id": "ea19d798",
   "metadata": {
    "execution": {
     "iopub.execute_input": "2024-10-26T15:35:01.431849Z",
     "iopub.status.busy": "2024-10-26T15:35:01.430693Z",
     "iopub.status.idle": "2024-10-26T15:35:01.645972Z",
     "shell.execute_reply": "2024-10-26T15:35:01.644685Z"
    },
    "papermill": {
     "duration": 0.230271,
     "end_time": "2024-10-26T15:35:01.648933",
     "exception": false,
     "start_time": "2024-10-26T15:35:01.418662",
     "status": "completed"
    },
    "tags": []
   },
   "outputs": [
    {
     "data": {
      "text/plain": [
       "<Axes: xlabel='Survived', ylabel='count'>"
      ]
     },
     "execution_count": 6,
     "metadata": {},
     "output_type": "execute_result"
    },
    {
     "data": {
      "image/png": "[encoded data removed]",
      "text/plain": [
       "<Figure size 640x480 with 1 Axes>"
      ]
     },
     "metadata": {},
     "output_type": "display_data"
    }
   ],
   "source": [
    "# Оценка выживаемости с разделением по половым признакам (0 - погибли, 1 - выжили)\n",
    "sns.countplot(x='Survived', hue='Sex', data=df)\n",
    "# можно сделать вывод о том что погибших мужчин в разы больше чем выживших, \n",
    "# а колличество погибших женщин меньше чем выживших"
   ]
  },
  {
   "cell_type": "code",
   "execution_count": 7,
   "id": "82ed9d28",
   "metadata": {
    "execution": {
     "iopub.execute_input": "2024-10-26T15:35:01.670926Z",
     "iopub.status.busy": "2024-10-26T15:35:01.670434Z",
     "iopub.status.idle": "2024-10-26T15:35:01.923342Z",
     "shell.execute_reply": "2024-10-26T15:35:01.922137Z"
    },
    "papermill": {
     "duration": 0.267158,
     "end_time": "2024-10-26T15:35:01.926124",
     "exception": false,
     "start_time": "2024-10-26T15:35:01.658966",
     "status": "completed"
    },
    "tags": []
   },
   "outputs": [
    {
     "data": {
      "text/plain": [
       "<Axes: xlabel='Survived', ylabel='count'>"
      ]
     },
     "execution_count": 7,
     "metadata": {},
     "output_type": "execute_result"
    },
    {
     "data": {
      "image/png": "[encoded data removed]",
      "text/plain": [
       "<Figure size 640x480 with 1 Axes>"
      ]
     },
     "metadata": {},
     "output_type": "display_data"
    }
   ],
   "source": [
    "# Зависимость выживания от класса каюты (0 - погибли, 1 - выжили)\n",
    "sns.countplot(x='Survived', hue='Pclass', data=df)\n",
    "# Можно сдеть вывод, о том что число выживших из кают первого класса больше\n",
    "# второго класса приблизительно равно\n",
    "# третьего класса значительно меньше, чем погибших"
   ]
  },
  {
   "cell_type": "code",
   "execution_count": 8,
   "id": "82e79175",
   "metadata": {
    "execution": {
     "iopub.execute_input": "2024-10-26T15:35:01.949178Z",
     "iopub.status.busy": "2024-10-26T15:35:01.948705Z",
     "iopub.status.idle": "2024-10-26T15:35:02.604826Z",
     "shell.execute_reply": "2024-10-26T15:35:02.603388Z"
    },
    "papermill": {
     "duration": 0.671031,
     "end_time": "2024-10-26T15:35:02.607601",
     "exception": false,
     "start_time": "2024-10-26T15:35:01.936570",
     "status": "completed"
    },
    "tags": []
   },
   "outputs": [
    {
     "name": "stderr",
     "output_type": "stream",
     "text": [
      "/opt/conda/lib/python3.10/site-packages/seaborn/_oldcore.py:1119: FutureWarning: use_inf_as_na option is deprecated and will be removed in a future version. Convert inf values to NaN before operating instead.\n",
      "  with pd.option_context('mode.use_inf_as_na', True):\n",
      "/opt/conda/lib/python3.10/site-packages/seaborn/_oldcore.py:1119: FutureWarning: use_inf_as_na option is deprecated and will be removed in a future version. Convert inf values to NaN before operating instead.\n",
      "  with pd.option_context('mode.use_inf_as_na', True):\n"
     ]
    },
    {
     "data": {
      "image/png": "[encoded data removed]",
      "text/plain": [
       "<Figure size 1000x600 with 1 Axes>"
      ]
     },
     "metadata": {},
     "output_type": "display_data"
    }
   ],
   "source": [
    "# Выживыемость по возрасту\n",
    "plt.figure(figsize=(10, 6))\n",
    "sns.histplot(df[df['Survived'] == 1]['Age'], bins=30, color='green', label='Выжившие', kde=True)\n",
    "sns.histplot(df[df['Survived'] == 0]['Age'], bins=30, color='red', label='Не выжившие', kde=True)\n",
    "plt.legend()\n",
    "plt.show()\n",
    "# Можно сделать вывод о том, что больше шансов на выживание имели дети, \n",
    "# Люди среднего возраста имели приблизительно одинаковые шансы на выживание,\n",
    "# А люди в возрате имели меньше шансов на то чтобы выжить"
   ]
  },
  {
   "cell_type": "code",
   "execution_count": 9,
   "id": "66b8eee8",
   "metadata": {
    "execution": {
     "iopub.execute_input": "2024-10-26T15:35:02.633611Z",
     "iopub.status.busy": "2024-10-26T15:35:02.632755Z",
     "iopub.status.idle": "2024-10-26T15:35:02.957863Z",
     "shell.execute_reply": "2024-10-26T15:35:02.956665Z"
    },
    "papermill": {
     "duration": 0.341108,
     "end_time": "2024-10-26T15:35:02.960320",
     "exception": false,
     "start_time": "2024-10-26T15:35:02.619212",
     "status": "completed"
    },
    "tags": []
   },
   "outputs": [
    {
     "data": {
      "image/png": "[encoded data removed]",
      "text/plain": [
       "<Figure size 640x480 with 1 Axes>"
      ]
     },
     "metadata": {},
     "output_type": "display_data"
    }
   ],
   "source": [
    "# Выживыемость по количеству родственников на борту (0 - погибли, 1 - выжили)\n",
    "df['FamilySize'] = df['SibSp'] + df['Parch']\n",
    "sns.countplot(x='FamilySize', hue='Survived', data=df)\n",
    "plt.title('Выживаемость по количеству родственников')\n",
    "plt.show()\n",
    "# Можно сделать вывод о том , что люди имеющие от 1 до 3 родственников на борту имели больше шансов выжить"
   ]
  },
  {
   "cell_type": "code",
   "execution_count": 10,
   "id": "e962a864",
   "metadata": {
    "execution": {
     "iopub.execute_input": "2024-10-26T15:35:02.990214Z",
     "iopub.status.busy": "2024-10-26T15:35:02.989724Z",
     "iopub.status.idle": "2024-10-26T15:35:03.004850Z",
     "shell.execute_reply": "2024-10-26T15:35:03.003670Z"
    },
    "papermill": {
     "duration": 0.034167,
     "end_time": "2024-10-26T15:35:03.007510",
     "exception": false,
     "start_time": "2024-10-26T15:35:02.973343",
     "status": "completed"
    },
    "tags": []
   },
   "outputs": [],
   "source": [
    "# Добавление новых признаков\n",
    "df['IsChild'] = (df['Age'] < 12).astype(int)# Пассажир является ребенком до 12 лет\n",
    "df['IsAlone'] = ((df['SibSp'] + df['Parch']) == 0).astype(int)# Пассажир не имеет родственников на борту\n",
    "df['FarePerPerson'] = df['Fare'] / (df['FamilySize'] + 1)# Стоимость билета, деленная на количество членов семьи"
   ]
  },
  {
   "cell_type": "code",
   "execution_count": 11,
   "id": "1972ef81",
   "metadata": {
    "execution": {
     "iopub.execute_input": "2024-10-26T15:35:03.033182Z",
     "iopub.status.busy": "2024-10-26T15:35:03.032741Z",
     "iopub.status.idle": "2024-10-26T15:35:03.254602Z",
     "shell.execute_reply": "2024-10-26T15:35:03.253405Z"
    },
    "papermill": {
     "duration": 0.237825,
     "end_time": "2024-10-26T15:35:03.257131",
     "exception": false,
     "start_time": "2024-10-26T15:35:03.019306",
     "status": "completed"
    },
    "tags": []
   },
   "outputs": [
    {
     "data": {
      "text/plain": [
       "<Axes: xlabel='Survived', ylabel='count'>"
      ]
     },
     "execution_count": 11,
     "metadata": {},
     "output_type": "execute_result"
    },
    {
     "data": {
      "image/png": "[encoded data removed]",
      "text/plain": [
       "<Figure size 640x480 with 1 Axes>"
      ]
     },
     "metadata": {},
     "output_type": "display_data"
    }
   ],
   "source": [
    "# Выживаемость в зависимости от того, является ли пассажир ребенком или нет\n",
    "sns.countplot(x='Survived', hue='IsChild', data=df) \n",
    "# Можно сделать вывод о том что колличество выживших детей ненамного, но больше чем колличество погибших"
   ]
  },
  {
   "cell_type": "code",
   "execution_count": 12,
   "id": "b311137f",
   "metadata": {
    "execution": {
     "iopub.execute_input": "2024-10-26T15:35:03.283716Z",
     "iopub.status.busy": "2024-10-26T15:35:03.282852Z",
     "iopub.status.idle": "2024-10-26T15:35:03.291497Z",
     "shell.execute_reply": "2024-10-26T15:35:03.290342Z"
    },
    "papermill": {
     "duration": 0.024965,
     "end_time": "2024-10-26T15:35:03.294312",
     "exception": false,
     "start_time": "2024-10-26T15:35:03.269347",
     "status": "completed"
    },
    "tags": []
   },
   "outputs": [],
   "source": [
    "df.isnull().sum()\n",
    "categorical_cols = df.select_dtypes(include=['object']).columns\n",
    "label_encoders = {}"
   ]
  },
  {
   "cell_type": "code",
   "execution_count": 13,
   "id": "8c4073e6",
   "metadata": {
    "execution": {
     "iopub.execute_input": "2024-10-26T15:35:03.322021Z",
     "iopub.status.busy": "2024-10-26T15:35:03.320897Z",
     "iopub.status.idle": "2024-10-26T15:35:03.539387Z",
     "shell.execute_reply": "2024-10-26T15:35:03.538313Z"
    },
    "papermill": {
     "duration": 0.235199,
     "end_time": "2024-10-26T15:35:03.542081",
     "exception": false,
     "start_time": "2024-10-26T15:35:03.306882",
     "status": "completed"
    },
    "tags": []
   },
   "outputs": [],
   "source": [
    "from sklearn.preprocessing import LabelEncoder\n",
    "for col in categorical_cols:\n",
    "    le = LabelEncoder()\n",
    "    df[col] = le.fit_transform(df[col])\n",
    "    label_encoders[col] = le"
   ]
  },
  {
   "cell_type": "code",
   "execution_count": 14,
   "id": "5f539fe1",
   "metadata": {
    "execution": {
     "iopub.execute_input": "2024-10-26T15:35:03.568910Z",
     "iopub.status.busy": "2024-10-26T15:35:03.568029Z",
     "iopub.status.idle": "2024-10-26T15:35:03.578649Z",
     "shell.execute_reply": "2024-10-26T15:35:03.577462Z"
    },
    "papermill": {
     "duration": 0.026903,
     "end_time": "2024-10-26T15:35:03.581220",
     "exception": false,
     "start_time": "2024-10-26T15:35:03.554317",
     "status": "completed"
    },
    "tags": []
   },
   "outputs": [
    {
     "data": {
      "text/plain": [
       "PassengerId        0\n",
       "Survived           0\n",
       "Pclass             0\n",
       "Name               0\n",
       "Sex                0\n",
       "Age              177\n",
       "SibSp              0\n",
       "Parch              0\n",
       "Ticket             0\n",
       "Fare               0\n",
       "Cabin              0\n",
       "Embarked           0\n",
       "FamilySize         0\n",
       "IsChild            0\n",
       "IsAlone            0\n",
       "FarePerPerson      0\n",
       "dtype: int64"
      ]
     },
     "execution_count": 14,
     "metadata": {},
     "output_type": "execute_result"
    }
   ],
   "source": [
    "df.isnull().sum()"
   ]
  },
  {
   "cell_type": "code",
   "execution_count": 15,
   "id": "8a531d23",
   "metadata": {
    "execution": {
     "iopub.execute_input": "2024-10-26T15:35:03.608819Z",
     "iopub.status.busy": "2024-10-26T15:35:03.607865Z",
     "iopub.status.idle": "2024-10-26T15:35:03.618526Z",
     "shell.execute_reply": "2024-10-26T15:35:03.616938Z"
    },
    "papermill": {
     "duration": 0.027378,
     "end_time": "2024-10-26T15:35:03.621044",
     "exception": false,
     "start_time": "2024-10-26T15:35:03.593666",
     "status": "completed"
    },
    "tags": []
   },
   "outputs": [
    {
     "name": "stderr",
     "output_type": "stream",
     "text": [
      "/tmp/ipykernel_17/1527141296.py:1: FutureWarning: A value is trying to be set on a copy of a DataFrame or Series through chained assignment using an inplace method.\n",
      "The behavior will change in pandas 3.0. This inplace method will never work because the intermediate object on which we are setting values always behaves as a copy.\n",
      "\n",
      "For example, when doing 'df[col].method(value, inplace=True)', try using 'df.method({col: value}, inplace=True)' or df[col] = df[col].method(value) instead, to perform the operation inplace on the original object.\n",
      "\n",
      "\n",
      "  df['Age'].fillna(df['Age'].median(),inplace=True)\n"
     ]
    }
   ],
   "source": [
    "df['Age'].fillna(df['Age'].median(),inplace=True)"
   ]
  },
  {
   "cell_type": "code",
   "execution_count": 16,
   "id": "1ab20b3c",
   "metadata": {
    "execution": {
     "iopub.execute_input": "2024-10-26T15:35:03.648594Z",
     "iopub.status.busy": "2024-10-26T15:35:03.647649Z",
     "iopub.status.idle": "2024-10-26T15:35:03.658600Z",
     "shell.execute_reply": "2024-10-26T15:35:03.657471Z"
    },
    "papermill": {
     "duration": 0.02748,
     "end_time": "2024-10-26T15:35:03.661169",
     "exception": false,
     "start_time": "2024-10-26T15:35:03.633689",
     "status": "completed"
    },
    "tags": []
   },
   "outputs": [
    {
     "data": {
      "text/plain": [
       "PassengerId      0\n",
       "Survived         0\n",
       "Pclass           0\n",
       "Name             0\n",
       "Sex              0\n",
       "Age              0\n",
       "SibSp            0\n",
       "Parch            0\n",
       "Ticket           0\n",
       "Fare             0\n",
       "Cabin            0\n",
       "Embarked         0\n",
       "FamilySize       0\n",
       "IsChild          0\n",
       "IsAlone          0\n",
       "FarePerPerson    0\n",
       "dtype: int64"
      ]
     },
     "execution_count": 16,
     "metadata": {},
     "output_type": "execute_result"
    }
   ],
   "source": [
    "df.isnull().sum()"
   ]
  },
  {
   "cell_type": "code",
   "execution_count": 17,
   "id": "3a7b9ab8",
   "metadata": {
    "execution": {
     "iopub.execute_input": "2024-10-26T15:35:03.689464Z",
     "iopub.status.busy": "2024-10-26T15:35:03.688995Z",
     "iopub.status.idle": "2024-10-26T15:35:03.696157Z",
     "shell.execute_reply": "2024-10-26T15:35:03.695139Z"
    },
    "papermill": {
     "duration": 0.02437,
     "end_time": "2024-10-26T15:35:03.698593",
     "exception": false,
     "start_time": "2024-10-26T15:35:03.674223",
     "status": "completed"
    },
    "tags": []
   },
   "outputs": [],
   "source": [
    "X = df.drop(columns=['Survived'])\n",
    "y = df['Survived']"
   ]
  },
  {
   "cell_type": "code",
   "execution_count": 18,
   "id": "fd2305af",
   "metadata": {
    "execution": {
     "iopub.execute_input": "2024-10-26T15:35:03.726209Z",
     "iopub.status.busy": "2024-10-26T15:35:03.725725Z",
     "iopub.status.idle": "2024-10-26T15:35:22.706253Z",
     "shell.execute_reply": "2024-10-26T15:35:22.704831Z"
    },
    "papermill": {
     "duration": 18.997583,
     "end_time": "2024-10-26T15:35:22.709043",
     "exception": false,
     "start_time": "2024-10-26T15:35:03.711460",
     "status": "completed"
    },
    "tags": []
   },
   "outputs": [
    {
     "name": "stdout",
     "output_type": "stream",
     "text": [
      "Epoch 1/10\n"
     ]
    },
    {
     "name": "stderr",
     "output_type": "stream",
     "text": [
      "/opt/conda/lib/python3.10/site-packages/keras/src/layers/core/dense.py:87: UserWarning: Do not pass an `input_shape`/`input_dim` argument to a layer. When using Sequential models, prefer using an `Input(shape)` object as the first layer in the model instead.\n",
      "  super().__init__(activity_regularizer=activity_regularizer, **kwargs)\n"
     ]
    },
    {
     "name": "stdout",
     "output_type": "stream",
     "text": [
      "\u001b[1m18/18\u001b[0m \u001b[32m━━━━━━━━━━━━━━━━━━━━\u001b[0m\u001b[37m\u001b[0m \u001b[1m2s\u001b[0m 16ms/step - accuracy: 0.6002 - loss: 19.4041 - val_accuracy: 0.6573 - val_loss: 16.6013\n",
      "Epoch 2/10\n",
      "\u001b[1m18/18\u001b[0m \u001b[32m━━━━━━━━━━━━━━━━━━━━\u001b[0m\u001b[37m\u001b[0m \u001b[1m0s\u001b[0m 4ms/step - accuracy: 0.6443 - loss: 15.8037 - val_accuracy: 0.6923 - val_loss: 13.4531\n",
      "Epoch 3/10\n",
      "\u001b[1m18/18\u001b[0m \u001b[32m━━━━━━━━━━━━━━━━━━━━\u001b[0m\u001b[37m\u001b[0m \u001b[1m0s\u001b[0m 4ms/step - accuracy: 0.6870 - loss: 12.7980 - val_accuracy: 0.7692 - val_loss: 10.8701\n",
      "Epoch 4/10\n",
      "\u001b[1m18/18\u001b[0m \u001b[32m━━━━━━━━━━━━━━━━━━━━\u001b[0m\u001b[37m\u001b[0m \u001b[1m0s\u001b[0m 4ms/step - accuracy: 0.7502 - loss: 10.3413 - val_accuracy: 0.8252 - val_loss: 8.7630\n",
      "Epoch 5/10\n",
      "\u001b[1m18/18\u001b[0m \u001b[32m━━━━━━━━━━━━━━━━━━━━\u001b[0m\u001b[37m\u001b[0m \u001b[1m0s\u001b[0m 4ms/step - accuracy: 0.7675 - loss: 8.3460 - val_accuracy: 0.8322 - val_loss: 7.0530\n",
      "Epoch 6/10\n",
      "\u001b[1m18/18\u001b[0m \u001b[32m━━━━━━━━━━━━━━━━━━━━\u001b[0m\u001b[37m\u001b[0m \u001b[1m0s\u001b[0m 5ms/step - accuracy: 0.8004 - loss: 6.7074 - val_accuracy: 0.8462 - val_loss: 5.6734\n",
      "Epoch 7/10\n",
      "\u001b[1m18/18\u001b[0m \u001b[32m━━━━━━━━━━━━━━━━━━━━\u001b[0m\u001b[37m\u001b[0m \u001b[1m0s\u001b[0m 4ms/step - accuracy: 0.7993 - loss: 5.4262 - val_accuracy: 0.8531 - val_loss: 4.5624\n",
      "Epoch 8/10\n",
      "\u001b[1m18/18\u001b[0m \u001b[32m━━━━━━━━━━━━━━━━━━━━\u001b[0m\u001b[37m\u001b[0m \u001b[1m0s\u001b[0m 5ms/step - accuracy: 0.7887 - loss: 4.3858 - val_accuracy: 0.8601 - val_loss: 3.6669\n",
      "Epoch 9/10\n",
      "\u001b[1m18/18\u001b[0m \u001b[32m━━━━━━━━━━━━━━━━━━━━\u001b[0m\u001b[37m\u001b[0m \u001b[1m0s\u001b[0m 4ms/step - accuracy: 0.8235 - loss: 3.5046 - val_accuracy: 0.8601 - val_loss: 2.9528\n",
      "Epoch 10/10\n",
      "\u001b[1m18/18\u001b[0m \u001b[32m━━━━━━━━━━━━━━━━━━━━\u001b[0m\u001b[37m\u001b[0m \u001b[1m0s\u001b[0m 4ms/step - accuracy: 0.8157 - loss: 2.8433 - val_accuracy: 0.8601 - val_loss: 2.3870\n",
      "\u001b[1m6/6\u001b[0m \u001b[32m━━━━━━━━━━━━━━━━━━━━\u001b[0m\u001b[37m\u001b[0m \u001b[1m0s\u001b[0m 2ms/step - accuracy: 0.8474 - loss: 2.3986 \n",
      "Test Accuracy: 0.82\n"
     ]
    }
   ],
   "source": [
    "import numpy as np\n",
    "from sklearn.model_selection import train_test_split\n",
    "from sklearn.datasets import make_classification\n",
    "from sklearn.preprocessing import StandardScaler\n",
    "from keras.models import Sequential\n",
    "from keras.layers import Dense\n",
    "from keras.regularizers import l2 \n",
    "\n",
    "\n",
    "# Train-test split\n",
    "X_train, X_test, y_train, y_test = train_test_split(X, y, test_size=0.2, random_state=42)\n",
    "\n",
    "# Standardize the data\n",
    "scaler = StandardScaler()\n",
    "X_train = scaler.fit_transform(X_train)\n",
    "X_test = scaler.transform(X_test)\n",
    "\n",
    "# Create the neural network model\n",
    "model = Sequential()\n",
    "model.add(Dense(64, activation='relu', input_shape=(X_train.shape[1],), kernel_regularizer=l2(0.85)))\n",
    "model.add(Dense(32, activation='relu', input_shape=(X_train.shape[1],)))\n",
    "model.add(Dense(16, activation='relu'))\n",
    "model.add(Dense(1, activation='sigmoid'))\n",
    "\n",
    "# Compile the model\n",
    "model.compile(optimizer='adam', loss='binary_crossentropy', metrics=['accuracy'])\n",
    "\n",
    "# Train the model\n",
    "model.fit(X_train, y_train, epochs=10, batch_size=32, validation_split=0.2)\n",
    "\n",
    "# Evaluate the model\n",
    "loss, accuracy = model.evaluate(X_test, y_test)\n",
    "print(f'Test Accuracy: {accuracy:.2f}')\n"
   ]
  },
  {
   "cell_type": "code",
   "execution_count": 19,
   "id": "9a7ba375",
   "metadata": {
    "execution": {
     "iopub.execute_input": "2024-10-26T15:35:22.744127Z",
     "iopub.status.busy": "2024-10-26T15:35:22.743274Z",
     "iopub.status.idle": "2024-10-26T15:35:22.803881Z",
     "shell.execute_reply": "2024-10-26T15:35:22.802581Z"
    },
    "papermill": {
     "duration": 0.080985,
     "end_time": "2024-10-26T15:35:22.806530",
     "exception": false,
     "start_time": "2024-10-26T15:35:22.725545",
     "status": "completed"
    },
    "tags": []
   },
   "outputs": [
    {
     "data": {
      "text/plain": [
       "['fully-connected-model.pkl']"
      ]
     },
     "execution_count": 19,
     "metadata": {},
     "output_type": "execute_result"
    }
   ],
   "source": [
    "import joblib\n",
    "joblib.dump(model, 'fully-connected-model.pkl')"
   ]
  },
  {
   "cell_type": "code",
   "execution_count": 20,
   "id": "dd0ca9bc",
   "metadata": {
    "execution": {
     "iopub.execute_input": "2024-10-26T15:35:22.841891Z",
     "iopub.status.busy": "2024-10-26T15:35:22.840635Z",
     "iopub.status.idle": "2024-10-26T15:35:22.972924Z",
     "shell.execute_reply": "2024-10-26T15:35:22.971723Z"
    },
    "papermill": {
     "duration": 0.153102,
     "end_time": "2024-10-26T15:35:22.975793",
     "exception": false,
     "start_time": "2024-10-26T15:35:22.822691",
     "status": "completed"
    },
    "tags": []
   },
   "outputs": [],
   "source": [
    "model_loaded = joblib.load('fully-connected-model.pkl')"
   ]
  },
  {
   "cell_type": "code",
   "execution_count": 21,
   "id": "14fe475e",
   "metadata": {
    "execution": {
     "iopub.execute_input": "2024-10-26T15:35:23.011028Z",
     "iopub.status.busy": "2024-10-26T15:35:23.009833Z",
     "iopub.status.idle": "2024-10-26T15:35:24.334136Z",
     "shell.execute_reply": "2024-10-26T15:35:24.332764Z"
    },
    "papermill": {
     "duration": 1.344765,
     "end_time": "2024-10-26T15:35:24.336863",
     "exception": false,
     "start_time": "2024-10-26T15:35:22.992098",
     "status": "completed"
    },
    "tags": []
   },
   "outputs": [
    {
     "name": "stdout",
     "output_type": "stream",
     "text": [
      "Epoch 1/10\n",
      "\u001b[1m18/18\u001b[0m \u001b[32m━━━━━━━━━━━━━━━━━━━━\u001b[0m\u001b[37m\u001b[0m \u001b[1m0s\u001b[0m 7ms/step - accuracy: 0.8182 - loss: 2.2990 - val_accuracy: 0.8462 - val_loss: 1.9346\n",
      "Epoch 2/10\n",
      "\u001b[1m18/18\u001b[0m \u001b[32m━━━━━━━━━━━━━━━━━━━━\u001b[0m\u001b[37m\u001b[0m \u001b[1m0s\u001b[0m 4ms/step - accuracy: 0.8302 - loss: 1.8800 - val_accuracy: 0.8531 - val_loss: 1.5804\n",
      "Epoch 3/10\n",
      "\u001b[1m18/18\u001b[0m \u001b[32m━━━━━━━━━━━━━━━━━━━━\u001b[0m\u001b[37m\u001b[0m \u001b[1m0s\u001b[0m 4ms/step - accuracy: 0.8339 - loss: 1.5384 - val_accuracy: 0.8601 - val_loss: 1.3031\n",
      "Epoch 4/10\n",
      "\u001b[1m18/18\u001b[0m \u001b[32m━━━━━━━━━━━━━━━━━━━━\u001b[0m\u001b[37m\u001b[0m \u001b[1m0s\u001b[0m 4ms/step - accuracy: 0.8271 - loss: 1.2834 - val_accuracy: 0.8462 - val_loss: 1.0914\n",
      "Epoch 5/10\n",
      "\u001b[1m18/18\u001b[0m \u001b[32m━━━━━━━━━━━━━━━━━━━━\u001b[0m\u001b[37m\u001b[0m \u001b[1m0s\u001b[0m 4ms/step - accuracy: 0.8308 - loss: 1.0796 - val_accuracy: 0.8531 - val_loss: 0.9248\n",
      "Epoch 6/10\n",
      "\u001b[1m18/18\u001b[0m \u001b[32m━━━━━━━━━━━━━━━━━━━━\u001b[0m\u001b[37m\u001b[0m \u001b[1m0s\u001b[0m 4ms/step - accuracy: 0.8416 - loss: 0.8888 - val_accuracy: 0.8531 - val_loss: 0.7967\n",
      "Epoch 7/10\n",
      "\u001b[1m18/18\u001b[0m \u001b[32m━━━━━━━━━━━━━━━━━━━━\u001b[0m\u001b[37m\u001b[0m \u001b[1m0s\u001b[0m 4ms/step - accuracy: 0.8091 - loss: 0.8420 - val_accuracy: 0.8462 - val_loss: 0.7036\n",
      "Epoch 8/10\n",
      "\u001b[1m18/18\u001b[0m \u001b[32m━━━━━━━━━━━━━━━━━━━━\u001b[0m\u001b[37m\u001b[0m \u001b[1m0s\u001b[0m 4ms/step - accuracy: 0.8165 - loss: 0.7087 - val_accuracy: 0.8462 - val_loss: 0.6335\n",
      "Epoch 9/10\n",
      "\u001b[1m18/18\u001b[0m \u001b[32m━━━━━━━━━━━━━━━━━━━━\u001b[0m\u001b[37m\u001b[0m \u001b[1m0s\u001b[0m 4ms/step - accuracy: 0.8201 - loss: 0.6629 - val_accuracy: 0.8392 - val_loss: 0.5745\n",
      "Epoch 10/10\n",
      "\u001b[1m18/18\u001b[0m \u001b[32m━━━━━━━━━━━━━━━━━━━━\u001b[0m\u001b[37m\u001b[0m \u001b[1m0s\u001b[0m 4ms/step - accuracy: 0.8234 - loss: 0.5922 - val_accuracy: 0.8601 - val_loss: 0.5354\n"
     ]
    },
    {
     "data": {
      "image/png": "[encoded data removed]",
      "text/plain": [
       "<Figure size 640x480 with 1 Axes>"
      ]
     },
     "metadata": {},
     "output_type": "display_data"
    }
   ],
   "source": [
    "import matplotlib.pyplot as plt\n",
    "%matplotlib inline\n",
    "history = model.fit(X_train, y_train, epochs=10, batch_size=32, validation_split=0.2)\n",
    "plt.plot(history.history['loss'])\n",
    "plt.plot(history.history['val_loss'])\n",
    "plt.title('model loss')\n",
    "plt.ylabel('loss')\n",
    "plt.xlabel('epoch')\n",
    "plt.legend(['train', 'val'], loc='upper left')\n",
    "plt.show()"
   ]
  },
  {
   "cell_type": "code",
   "execution_count": 22,
   "id": "d9b66c45",
   "metadata": {
    "execution": {
     "iopub.execute_input": "2024-10-26T15:35:24.378942Z",
     "iopub.status.busy": "2024-10-26T15:35:24.377825Z",
     "iopub.status.idle": "2024-10-26T15:35:42.647617Z",
     "shell.execute_reply": "2024-10-26T15:35:42.645898Z"
    },
    "papermill": {
     "duration": 18.293714,
     "end_time": "2024-10-26T15:35:42.650359",
     "exception": false,
     "start_time": "2024-10-26T15:35:24.356645",
     "status": "completed"
    },
    "tags": []
   },
   "outputs": [
    {
     "name": "stdout",
     "output_type": "stream",
     "text": [
      "\u001b[1m10/10\u001b[0m \u001b[32m━━━━━━━━━━━━━━━━━━━━\u001b[0m\u001b[37m\u001b[0m \u001b[1m0s\u001b[0m 7ms/step\n",
      "              precision    recall  f1-score   support\n",
      "\n",
      "           0       0.72      0.86      0.78       183\n",
      "           1       0.67      0.46      0.54       114\n",
      "\n",
      "    accuracy                           0.70       297\n",
      "   macro avg       0.69      0.66      0.66       297\n",
      "weighted avg       0.70      0.70      0.69       297\n",
      "\n",
      "[[157  26]\n",
      " [ 62  52]]\n",
      "\u001b[1m10/10\u001b[0m \u001b[32m━━━━━━━━━━━━━━━━━━━━\u001b[0m\u001b[37m\u001b[0m \u001b[1m0s\u001b[0m 2ms/step \n",
      "              precision    recall  f1-score   support\n",
      "\n",
      "           0       0.67      0.82      0.74       183\n",
      "           1       0.54      0.34      0.42       114\n",
      "\n",
      "    accuracy                           0.64       297\n",
      "   macro avg       0.60      0.58      0.58       297\n",
      "weighted avg       0.62      0.64      0.61       297\n",
      "\n",
      "[[150  33]\n",
      " [ 75  39]]\n",
      "\u001b[1m10/10\u001b[0m \u001b[32m━━━━━━━━━━━━━━━━━━━━\u001b[0m\u001b[37m\u001b[0m \u001b[1m0s\u001b[0m 2ms/step \n",
      "              precision    recall  f1-score   support\n",
      "\n",
      "           0       0.66      0.89      0.76       183\n",
      "           1       0.59      0.26      0.36       114\n",
      "\n",
      "    accuracy                           0.65       297\n",
      "   macro avg       0.62      0.57      0.56       297\n",
      "weighted avg       0.63      0.65      0.60       297\n",
      "\n",
      "[[162  21]\n",
      " [ 84  30]]\n"
     ]
    }
   ],
   "source": [
    "# Кросс-валидация\n",
    "from sklearn.model_selection import StratifiedKFold\n",
    "from sklearn.metrics import classification_report, confusion_matrix\n",
    "\n",
    "kfold = StratifiedKFold(n_splits=3, shuffle=True, random_state=42)\n",
    "for train_index, test_index in kfold.split(X, y):\n",
    "    X_train_cv, X_test_cv = X.iloc[train_index], X.iloc[test_index]\n",
    "    y_train_cv, y_test_cv = y.iloc[train_index], y.iloc[test_index]\n",
    "\n",
    "    model.fit(X_train_cv, y_train_cv, epochs=100, batch_size=32, verbose=0)\n",
    "    y_pred = (model.predict(X_test_cv) > 0.5).astype(\"int32\")\n",
    "\n",
    "    print(classification_report(y_test_cv, y_pred))\n",
    "    print(confusion_matrix(y_test_cv, y_pred))\n"
   ]
  },
  {
   "cell_type": "code",
   "execution_count": 23,
   "id": "af0ca896",
   "metadata": {
    "execution": {
     "iopub.execute_input": "2024-10-26T15:35:42.694286Z",
     "iopub.status.busy": "2024-10-26T15:35:42.693732Z",
     "iopub.status.idle": "2024-10-26T15:35:42.704457Z",
     "shell.execute_reply": "2024-10-26T15:35:42.703268Z"
    },
    "papermill": {
     "duration": 0.036523,
     "end_time": "2024-10-26T15:35:42.707658",
     "exception": false,
     "start_time": "2024-10-26T15:35:42.671135",
     "status": "completed"
    },
    "tags": []
   },
   "outputs": [
    {
     "name": "stdout",
     "output_type": "stream",
     "text": [
      "TP: 30, TN: 162, FP: 21, FN: 84\n",
      "Модель предсказала, что погибнет, а по факту выжили =  84\n",
      "Модель предсказала, что выжили, а по факту погибли =  21\n",
      "Модель предсказала, что выжили, и по факту выжили =  30\n",
      "Модель предсказала, что погибнет, и по факту погиб =  162\n"
     ]
    }
   ],
   "source": [
    "# Матрица ошибок для одного из фолдов\n",
    "tn, fp, fn, tp = confusion_matrix(y_test_cv, y_pred).ravel()\n",
    "\n",
    "print(f\"TP: {tp}, TN: {tn}, FP: {fp}, FN: {fn}\")\n",
    "\n",
    "# Вывод\n",
    "print(\"Модель предсказала, что погибнет, а по факту выжили = \", fn)\n",
    "print(\"Модель предсказала, что выжили, а по факту погибли = \", fp)\n",
    "print(\"Модель предсказала, что выжили, и по факту выжили = \", tp)\n",
    "print(\"Модель предсказала, что погибнет, и по факту погиб = \", tn)"
   ]
  }
 ],
 "metadata": {
  "kaggle": {
   "accelerator": "none",
   "dataSources": [
    {
     "datasetId": 5924630,
     "sourceId": 9690870,
     "sourceType": "datasetVersion"
    }
   ],
   "dockerImageVersionId": 30786,
   "isGpuEnabled": false,
   "isInternetEnabled": false,
   "language": "python",
   "sourceType": "notebook"
  },
  "kernelspec": {
   "display_name": "Python 3",
   "language": "python",
   "name": "python3"
  },
  "language_info": {
   "codemirror_mode": {
    "name": "ipython",
    "version": 3
   },
   "file_extension": ".py",
   "mimetype": "text/x-python",
   "name": "python",
   "nbconvert_exporter": "python",
   "pygments_lexer": "ipython3",
   "version": "3.10.14"
  },
  "papermill": {
   "default_parameters": {},
   "duration": 50.973828,
   "end_time": "2024-10-26T15:35:45.219766",
   "environment_variables": {},
   "exception": null,
   "input_path": "__notebook__.ipynb",
   "output_path": "__notebook__.ipynb",
   "parameters": {},
   "start_time": "2024-10-26T15:34:54.245938",
   "version": "2.6.0"
  }
 },
 "nbformat": 4,
 "nbformat_minor": 5
}
